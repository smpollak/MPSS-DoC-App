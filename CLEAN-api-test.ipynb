{
 "cells": [
  {
   "cell_type": "markdown",
   "id": "a7ef8dbd",
   "metadata": {},
   "source": [
    "# API Testing\n",
    "\n",
    "Seeing if we can pull data from our APIs"
   ]
  },
  {
   "cell_type": "markdown",
   "id": "b191b5cb",
   "metadata": {},
   "source": [
    "## IMPORTS"
   ]
  },
  {
   "cell_type": "code",
   "execution_count": 1,
   "id": "4b91af78",
   "metadata": {},
   "outputs": [],
   "source": [
    "import requests\n",
    "import pandas as pd\n",
    "import json\n",
    "from io import StringIO"
   ]
  },
  {
   "cell_type": "markdown",
   "id": "58ee6e1f",
   "metadata": {},
   "source": [
    "## GINI Data"
   ]
  },
  {
   "cell_type": "code",
   "execution_count": 2,
   "id": "ab1ecf8d",
   "metadata": {},
   "outputs": [],
   "source": [
    "gini_url = \"https://api.worldbank.org/v2/country/usa/indicator/SI.POV.GINI?format=json\""
   ]
  },
  {
   "cell_type": "code",
   "execution_count": 3,
   "id": "3d8dbb19",
   "metadata": {},
   "outputs": [
    {
     "name": "stdout",
     "output_type": "stream",
     "text": [
      "200\n"
     ]
    }
   ],
   "source": [
    "# should get a response of 200 here\n",
    "response = requests.get(gini_url)\n",
    "print(response.status_code)"
   ]
  },
  {
   "cell_type": "code",
   "execution_count": 4,
   "id": "53bf63bf",
   "metadata": {},
   "outputs": [
    {
     "name": "stdout",
     "output_type": "stream",
     "text": [
      "<class 'list'> 2\n",
      "{\n",
      "  \"page\": 1,\n",
      "  \"pages\": 2,\n",
      "  \"per_page\": 50,\n",
      "  \"total\": 65,\n",
      "  \"sourceid\": \"2\",\n",
      "  \"lastupdated\": \"2025-04-15\"\n",
      "}\n"
     ]
    }
   ],
   "source": [
    "# should show the shape of json data and some metadata\n",
    "data = response.json()\n",
    "print(type(data), len(data))\n",
    "print(json.dumps(data[0], indent=2))"
   ]
  },
  {
   "cell_type": "code",
   "execution_count": 5,
   "id": "a85a951b",
   "metadata": {},
   "outputs": [
    {
     "data": {
      "text/html": [
       "<div>\n",
       "<style scoped>\n",
       "    .dataframe tbody tr th:only-of-type {\n",
       "        vertical-align: middle;\n",
       "    }\n",
       "\n",
       "    .dataframe tbody tr th {\n",
       "        vertical-align: top;\n",
       "    }\n",
       "\n",
       "    .dataframe thead th {\n",
       "        text-align: right;\n",
       "    }\n",
       "</style>\n",
       "<table border=\"1\" class=\"dataframe\">\n",
       "  <thead>\n",
       "    <tr style=\"text-align: right;\">\n",
       "      <th></th>\n",
       "      <th>date</th>\n",
       "      <th>country</th>\n",
       "      <th>countryiso3code</th>\n",
       "      <th>indicator</th>\n",
       "      <th>value</th>\n",
       "    </tr>\n",
       "  </thead>\n",
       "  <tbody>\n",
       "    <tr>\n",
       "      <th>0</th>\n",
       "      <td>2024</td>\n",
       "      <td>United States</td>\n",
       "      <td>USA</td>\n",
       "      <td>Gini index</td>\n",
       "      <td>NaN</td>\n",
       "    </tr>\n",
       "    <tr>\n",
       "      <th>1</th>\n",
       "      <td>2023</td>\n",
       "      <td>United States</td>\n",
       "      <td>USA</td>\n",
       "      <td>Gini index</td>\n",
       "      <td>NaN</td>\n",
       "    </tr>\n",
       "    <tr>\n",
       "      <th>2</th>\n",
       "      <td>2022</td>\n",
       "      <td>United States</td>\n",
       "      <td>USA</td>\n",
       "      <td>Gini index</td>\n",
       "      <td>41.3</td>\n",
       "    </tr>\n",
       "    <tr>\n",
       "      <th>3</th>\n",
       "      <td>2021</td>\n",
       "      <td>United States</td>\n",
       "      <td>USA</td>\n",
       "      <td>Gini index</td>\n",
       "      <td>39.7</td>\n",
       "    </tr>\n",
       "    <tr>\n",
       "      <th>4</th>\n",
       "      <td>2020</td>\n",
       "      <td>United States</td>\n",
       "      <td>USA</td>\n",
       "      <td>Gini index</td>\n",
       "      <td>39.7</td>\n",
       "    </tr>\n",
       "    <tr>\n",
       "      <th>5</th>\n",
       "      <td>2019</td>\n",
       "      <td>United States</td>\n",
       "      <td>USA</td>\n",
       "      <td>Gini index</td>\n",
       "      <td>41.5</td>\n",
       "    </tr>\n",
       "    <tr>\n",
       "      <th>6</th>\n",
       "      <td>2018</td>\n",
       "      <td>United States</td>\n",
       "      <td>USA</td>\n",
       "      <td>Gini index</td>\n",
       "      <td>41.4</td>\n",
       "    </tr>\n",
       "    <tr>\n",
       "      <th>7</th>\n",
       "      <td>2017</td>\n",
       "      <td>United States</td>\n",
       "      <td>USA</td>\n",
       "      <td>Gini index</td>\n",
       "      <td>41.2</td>\n",
       "    </tr>\n",
       "  </tbody>\n",
       "</table>\n",
       "</div>"
      ],
      "text/plain": [
       "   date        country countryiso3code   indicator  value\n",
       "0  2024  United States             USA  Gini index    NaN\n",
       "1  2023  United States             USA  Gini index    NaN\n",
       "2  2022  United States             USA  Gini index   41.3\n",
       "3  2021  United States             USA  Gini index   39.7\n",
       "4  2020  United States             USA  Gini index   39.7\n",
       "5  2019  United States             USA  Gini index   41.5\n",
       "6  2018  United States             USA  Gini index   41.4\n",
       "7  2017  United States             USA  Gini index   41.2"
      ]
     },
     "execution_count": 5,
     "metadata": {},
     "output_type": "execute_result"
    }
   ],
   "source": [
    "# Unboxing the data into a pd dataframe\n",
    "gini_df = pd.DataFrame(data[1]) # the data should be located within the second index of the json response\n",
    "gini_df['indicator'] = gini_df['indicator'].apply(lambda d: d['value']) # extract the 'value' element from each nested dict\n",
    "gini_df['country']   = gini_df['country'].apply(lambda d: d['value'])\n",
    "gini_df = gini_df[['date', 'country', 'countryiso3code', 'indicator','value']] # selecting columns to keep\n",
    "gini_df.head(8)"
   ]
  },
  {
   "cell_type": "markdown",
   "id": "42a2de1e",
   "metadata": {},
   "source": [
    "## Union Density Data"
   ]
  },
  {
   "cell_type": "code",
   "execution_count": 6,
   "id": "6f22bc2b",
   "metadata": {},
   "outputs": [],
   "source": [
    "union_density_url = \"https://sdmx.oecd.org/public/rest/data/OECD.ELS.SAE,DSD_TUD_CBC@DF_TUD,/all?startPeriod=2000&endPeriod=2025&dimensionAtObservation=AllDimensions&format=csvfilewithlabels\""
   ]
  },
  {
   "cell_type": "code",
   "execution_count": 7,
   "id": "1b0b42df",
   "metadata": {},
   "outputs": [
    {
     "name": "stdout",
     "output_type": "stream",
     "text": [
      "200\n"
     ]
    }
   ],
   "source": [
    "# should get a response of 200 here\n",
    "response = requests.get(union_density_url)\n",
    "print(response.status_code)"
   ]
  },
  {
   "cell_type": "code",
   "execution_count": 8,
   "id": "d02000b3",
   "metadata": {},
   "outputs": [
    {
     "data": {
      "text/html": [
       "<div>\n",
       "<style scoped>\n",
       "    .dataframe tbody tr th:only-of-type {\n",
       "        vertical-align: middle;\n",
       "    }\n",
       "\n",
       "    .dataframe tbody tr th {\n",
       "        vertical-align: top;\n",
       "    }\n",
       "\n",
       "    .dataframe thead th {\n",
       "        text-align: right;\n",
       "    }\n",
       "</style>\n",
       "<table border=\"1\" class=\"dataframe\">\n",
       "  <thead>\n",
       "    <tr style=\"text-align: right;\">\n",
       "      <th></th>\n",
       "      <th>TIME_PERIOD</th>\n",
       "      <th>Reference area</th>\n",
       "      <th>REF_AREA</th>\n",
       "      <th>Measure</th>\n",
       "      <th>OBS_VALUE</th>\n",
       "    </tr>\n",
       "  </thead>\n",
       "  <tbody>\n",
       "    <tr>\n",
       "      <th>0</th>\n",
       "      <td>2000</td>\n",
       "      <td>OECD</td>\n",
       "      <td>OECD</td>\n",
       "      <td>Trade union density</td>\n",
       "      <td>20.900000</td>\n",
       "    </tr>\n",
       "    <tr>\n",
       "      <th>1</th>\n",
       "      <td>2001</td>\n",
       "      <td>OECD</td>\n",
       "      <td>OECD</td>\n",
       "      <td>Trade union density</td>\n",
       "      <td>20.299999</td>\n",
       "    </tr>\n",
       "    <tr>\n",
       "      <th>2</th>\n",
       "      <td>2002</td>\n",
       "      <td>OECD</td>\n",
       "      <td>OECD</td>\n",
       "      <td>Trade union density</td>\n",
       "      <td>20.000000</td>\n",
       "    </tr>\n",
       "  </tbody>\n",
       "</table>\n",
       "</div>"
      ],
      "text/plain": [
       "   TIME_PERIOD Reference area REF_AREA              Measure  OBS_VALUE\n",
       "0         2000           OECD     OECD  Trade union density  20.900000\n",
       "1         2001           OECD     OECD  Trade union density  20.299999\n",
       "2         2002           OECD     OECD  Trade union density  20.000000"
      ]
     },
     "execution_count": 8,
     "metadata": {},
     "output_type": "execute_result"
    }
   ],
   "source": [
    "# digesting the csv text into a pandas df\n",
    "union_density_df = pd.read_csv(StringIO(response.text)) #stringio makes it \"appear\" like a csv to pandas\n",
    "union_density_df = union_density_df[['TIME_PERIOD', 'Reference area', 'REF_AREA', 'Measure','OBS_VALUE']] # selecting columns to keep\n",
    "union_density_df.head(3)\n",
    "\n"
   ]
  },
  {
   "cell_type": "code",
   "execution_count": 9,
   "id": "b9bb5679",
   "metadata": {},
   "outputs": [
    {
     "data": {
      "text/html": [
       "<div>\n",
       "<style scoped>\n",
       "    .dataframe tbody tr th:only-of-type {\n",
       "        vertical-align: middle;\n",
       "    }\n",
       "\n",
       "    .dataframe tbody tr th {\n",
       "        vertical-align: top;\n",
       "    }\n",
       "\n",
       "    .dataframe thead th {\n",
       "        text-align: right;\n",
       "    }\n",
       "</style>\n",
       "<table border=\"1\" class=\"dataframe\">\n",
       "  <thead>\n",
       "    <tr style=\"text-align: right;\">\n",
       "      <th></th>\n",
       "      <th>TIME_PERIOD</th>\n",
       "      <th>Reference area</th>\n",
       "      <th>REF_AREA</th>\n",
       "      <th>Measure</th>\n",
       "      <th>OBS_VALUE</th>\n",
       "    </tr>\n",
       "  </thead>\n",
       "  <tbody>\n",
       "    <tr>\n",
       "      <th>288</th>\n",
       "      <td>2000</td>\n",
       "      <td>United States</td>\n",
       "      <td>USA</td>\n",
       "      <td>Trade union density</td>\n",
       "      <td>12.9</td>\n",
       "    </tr>\n",
       "    <tr>\n",
       "      <th>289</th>\n",
       "      <td>2001</td>\n",
       "      <td>United States</td>\n",
       "      <td>USA</td>\n",
       "      <td>Trade union density</td>\n",
       "      <td>12.9</td>\n",
       "    </tr>\n",
       "    <tr>\n",
       "      <th>290</th>\n",
       "      <td>2002</td>\n",
       "      <td>United States</td>\n",
       "      <td>USA</td>\n",
       "      <td>Trade union density</td>\n",
       "      <td>12.8</td>\n",
       "    </tr>\n",
       "    <tr>\n",
       "      <th>291</th>\n",
       "      <td>2003</td>\n",
       "      <td>United States</td>\n",
       "      <td>USA</td>\n",
       "      <td>Trade union density</td>\n",
       "      <td>12.4</td>\n",
       "    </tr>\n",
       "    <tr>\n",
       "      <th>292</th>\n",
       "      <td>2004</td>\n",
       "      <td>United States</td>\n",
       "      <td>USA</td>\n",
       "      <td>Trade union density</td>\n",
       "      <td>12.0</td>\n",
       "    </tr>\n",
       "    <tr>\n",
       "      <th>293</th>\n",
       "      <td>2005</td>\n",
       "      <td>United States</td>\n",
       "      <td>USA</td>\n",
       "      <td>Trade union density</td>\n",
       "      <td>12.0</td>\n",
       "    </tr>\n",
       "    <tr>\n",
       "      <th>294</th>\n",
       "      <td>2006</td>\n",
       "      <td>United States</td>\n",
       "      <td>USA</td>\n",
       "      <td>Trade union density</td>\n",
       "      <td>11.5</td>\n",
       "    </tr>\n",
       "    <tr>\n",
       "      <th>295</th>\n",
       "      <td>2007</td>\n",
       "      <td>United States</td>\n",
       "      <td>USA</td>\n",
       "      <td>Trade union density</td>\n",
       "      <td>11.6</td>\n",
       "    </tr>\n",
       "  </tbody>\n",
       "</table>\n",
       "</div>"
      ],
      "text/plain": [
       "     TIME_PERIOD Reference area REF_AREA              Measure  OBS_VALUE\n",
       "288         2000  United States      USA  Trade union density       12.9\n",
       "289         2001  United States      USA  Trade union density       12.9\n",
       "290         2002  United States      USA  Trade union density       12.8\n",
       "291         2003  United States      USA  Trade union density       12.4\n",
       "292         2004  United States      USA  Trade union density       12.0\n",
       "293         2005  United States      USA  Trade union density       12.0\n",
       "294         2006  United States      USA  Trade union density       11.5\n",
       "295         2007  United States      USA  Trade union density       11.6"
      ]
     },
     "execution_count": 9,
     "metadata": {},
     "output_type": "execute_result"
    }
   ],
   "source": [
    "union_density_df[union_density_df['Reference area']=='United States'].head(8) # look at those americans\n"
   ]
  }
 ],
 "metadata": {
  "kernelspec": {
   "display_name": "ds",
   "language": "python",
   "name": "python3"
  },
  "language_info": {
   "codemirror_mode": {
    "name": "ipython",
    "version": 3
   },
   "file_extension": ".py",
   "mimetype": "text/x-python",
   "name": "python",
   "nbconvert_exporter": "python",
   "pygments_lexer": "ipython3",
   "version": "3.13.1"
  }
 },
 "nbformat": 4,
 "nbformat_minor": 5
}
