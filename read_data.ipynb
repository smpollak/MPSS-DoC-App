{
 "cells": [
  {
   "cell_type": "code",
   "execution_count": null,
   "id": "b184a62d",
   "metadata": {},
   "outputs": [
    {
     "name": "stdout",
     "output_type": "stream",
     "text": [
      "200\n",
      "(63750, 50)\n"
     ]
    }
   ],
   "source": [
    "import requests\n",
    "import pandas as pd\n",
    "import json\n",
    "from io import StringIO\n",
    "\n",
    "def fetch_oecd_data(metric):\n",
    "    url = f\"https://sdmx.oecd.org/public/rest/data/{metric}/all?startPeriod=2000&endPeriod=2025&dimensionAtObservation=AllDimensions&format=csvfilewithlabels\"\n",
    "    response = requests.get(url)\n",
    "    print(response.status_code)\n",
    "    # digesting the csv text into a pandas df\n",
    "    df = pd.read_csv(StringIO(response.text)) #stringio makes it \"appear\" like a csv to pandas\n",
    "    #df = df[['TIME_PERIOD', 'Reference area', 'REF_AREA', 'Measure','OBS_VALUE']] # selecting columns to keep\n",
    "    return df\n",
    "\n",
    "TradeUnion_code = 'OECD.ELS.SAE,DSD_TUD_CBC@DF_TUD,'\n",
    "CorpTax_code = 'OECD.CTP.TPS,DSD_TAX_CIT@DF_CIT,1.0/.A..ST..S13+S1311+S13M..'\n",
    "GovSpend_code = 'OECD.SDD.NAD,DSD_NASEC10@DF_TABLE11,/A..S13...OTE.....V..'\n",
    "\n",
    "df = fetch_oecd_data(GovSpend_code)\n",
    "print(df.shape)\n",
    "#df.to_csv('GovSpend.csv', index=False)"
   ]
  },
  {
   "cell_type": "code",
   "execution_count": null,
   "id": "f0da6ee9",
   "metadata": {},
   "outputs": [],
   "source": []
  },
  {
   "cell_type": "code",
   "execution_count": 2,
   "id": "4b52e1bb",
   "metadata": {},
   "outputs": [
    {
     "data": {
      "text/plain": [
       "{'Agriculture, forestry, fishing and hunting',\n",
       " 'Basic research',\n",
       " 'Broadcasting and publishing services',\n",
       " 'Civil defence',\n",
       " 'Communication',\n",
       " 'Community development',\n",
       " 'Cultural services',\n",
       " 'Defence',\n",
       " 'Defence n.e.c.',\n",
       " 'Economic affairs',\n",
       " 'Economic affairs n.e.c.',\n",
       " 'Education',\n",
       " 'Education n.e.c.',\n",
       " 'Education not definable by level',\n",
       " 'Environmental protection',\n",
       " 'Environmental protection n.e.c.',\n",
       " 'Executive and legislative organs, financial and fiscal affairs, external affairs',\n",
       " 'Family and children',\n",
       " 'Fire-protection services',\n",
       " 'Foreign economic aid',\n",
       " 'Foreign military aid',\n",
       " 'Fuel and energy',\n",
       " 'General economic, commercial and labour affairs',\n",
       " 'General public services',\n",
       " 'General public services n.e.c.',\n",
       " 'General services',\n",
       " 'Health',\n",
       " 'Health n.e.c.',\n",
       " 'Hospital services',\n",
       " 'Housing',\n",
       " 'Housing and community amenities',\n",
       " 'Housing and community amenities n.e.c.',\n",
       " 'Housing development',\n",
       " 'Law courts',\n",
       " 'Medical products, appliances and equipment',\n",
       " 'Military defence',\n",
       " 'Mining, manufacturing and construction',\n",
       " 'Old age',\n",
       " 'Other industries',\n",
       " 'Outpatient services',\n",
       " 'Police services',\n",
       " 'Pollution abatement',\n",
       " 'Post-secondary non-tertiary education',\n",
       " 'Pre-primary and primary education',\n",
       " 'Prisons',\n",
       " 'Protection of biodiversity and landscape',\n",
       " 'Public debt transactions',\n",
       " 'Public health services',\n",
       " 'Public order and safety',\n",
       " 'Public order and safety n.e.c.',\n",
       " 'R&D Defence',\n",
       " 'R&D Economic affairs',\n",
       " 'R&D Education',\n",
       " 'R&D Environmental protection',\n",
       " 'R&D General public services',\n",
       " 'R&D Health',\n",
       " 'R&D Housing and community amenities',\n",
       " 'R&D Public order and safety',\n",
       " 'R&D Recreation, culture and religion',\n",
       " 'R&D Social protection',\n",
       " 'Recreation, culture and religion',\n",
       " 'Recreation, culture and religion n.e.c.',\n",
       " 'Recreational and sporting services',\n",
       " 'Religious and other community services',\n",
       " 'Secondary education',\n",
       " 'Sickness and disability',\n",
       " 'Social exclusion n.e.c.',\n",
       " 'Social protection',\n",
       " 'Social protection n.e.c.',\n",
       " 'Street lighting',\n",
       " 'Subsidiary services to education',\n",
       " 'Survivors',\n",
       " 'Tertiary education',\n",
       " 'Total',\n",
       " 'Transfers of a general character between different levels of government',\n",
       " 'Transport',\n",
       " 'Unemployment',\n",
       " 'Waste management',\n",
       " 'Waste water management',\n",
       " 'Water supply'}"
      ]
     },
     "execution_count": 2,
     "metadata": {},
     "output_type": "execute_result"
    }
   ],
   "source": [
    "set(df.Expenditure)"
   ]
  },
  {
   "cell_type": "markdown",
   "id": "5120eee7",
   "metadata": {},
   "source": []
  }
 ],
 "metadata": {
  "kernelspec": {
   "display_name": "ds",
   "language": "python",
   "name": "python3"
  },
  "language_info": {
   "codemirror_mode": {
    "name": "ipython",
    "version": 3
   },
   "file_extension": ".py",
   "mimetype": "text/x-python",
   "name": "python",
   "nbconvert_exporter": "python",
   "pygments_lexer": "ipython3",
   "version": "3.11.11"
  }
 },
 "nbformat": 4,
 "nbformat_minor": 5
}
